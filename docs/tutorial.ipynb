{
 "cells": [
  {
   "cell_type": "markdown",
   "metadata": {
    "pycharm": {
     "name": "#%% md\n"
    }
   },
   "source": [
    "# Tutorial \n",
    "\n",
    "## Introduction\n",
    "\n",
    "This draft of the modelling framework has a code-name: `cm4twc` for Community Model for the Terrestrial Water Cycle."
   ]
  },
  {
   "cell_type": "code",
   "execution_count": 10,
   "metadata": {
    "pycharm": {
     "name": "#%%\n"
    }
   },
   "outputs": [
    {
     "name": "stdout",
     "output_type": "stream",
     "text": [
      "0.0.1\n"
     ]
    }
   ],
   "source": [
    "import cm4twc\n",
    "import tests\n",
    "\n",
    "print(cm4twc.__version__)"
   ]
  },
  {
   "cell_type": "markdown",
   "metadata": {
    "pycharm": {
     "name": "#%% md\n"
    }
   },
   "source": [
    "## Core concepts structuring the framework\n",
    "\n",
    "### `TimeDomain` class\n",
    "\n",
    "This class characterises the time dimension of a `Component`."
   ]
  },
  {
   "cell_type": "code",
   "execution_count": 11,
   "metadata": {
    "pycharm": {
     "name": "#%%\n"
    }
   },
   "outputs": [
    {
     "name": "stdout",
     "output_type": "stream",
     "text": [
      "TimeDomain(\n",
      "    time (3,): [2019-01-01 09:00:00, 2019-01-02 09:00:00, 2019-01-03 09:00:00] gregorian\n",
      "    bounds (3, 2): [[2019-01-01 09:00:00, ..., 2019-01-04 09:00:00]] gregorian\n",
      "    calendar: gregorian\n",
      "    units: seconds since 1970-01-01 00:00:00Z\n",
      "    timedelta: 1 day, 0:00:00\n",
      ")\n"
     ]
    }
   ],
   "source": [
    "from datetime import datetime\n",
    "\n",
    "timedomain = cm4twc.TimeDomain.from_datetime_sequence(\n",
    "    datetimes=(datetime(2019, 1, 1, 9, 0, 0),\n",
    "               datetime(2019, 1, 2, 9, 0, 0),\n",
    "               datetime(2019, 1, 3, 9, 0, 0))\n",
    ")\n",
    "\n",
    "print(timedomain)"
   ]
  },
  {
   "cell_type": "markdown",
   "metadata": {},
   "source": [
    "### `SpaceDomain` class\n",
    "\n",
    "This class characterises the space dimensions of a `Component`. It is intended as an umbrella class from which to subclass. A first subclass available is the `Grid`, itself discretised into `LatLonGrid` and `RotatedLatLonGrid`."
   ]
  },
  {
   "cell_type": "code",
   "execution_count": 12,
   "metadata": {
    "pycharm": {
     "name": "#%%\n"
    }
   },
   "outputs": [
    {
     "name": "stdout",
     "output_type": "stream",
     "text": [
      "RotatedLatLonGrid(\n",
      "    shape {Z, Y, X}: (1, 10, 9)\n",
      "    Z, altitude (1,): [1.5] m\n",
      "    Y, grid_latitude (10,): [2.2, ..., -1.76] degrees\n",
      "    X, grid_longitude (9,): [-4.7, ..., -1.18] degrees\n",
      "    Z_bounds (1, 2): [[1.0, 2.0]] m\n",
      "    Y_bounds (10, 2): [[2.42, ..., -1.98]] degrees\n",
      "    X_bounds (9, 2): [[-4.92, ..., -0.96]] degrees\n",
      ")\n"
     ]
    }
   ],
   "source": [
    "spacedomain = cm4twc.RotatedLatLonGrid(\n",
    "    grid_latitude=[2.2, 1.76, 1.32, 0.88, 0.44, 0., -0.44, -0.88, -1.32, -1.76],\n",
    "    grid_longitude=[-4.7, -4.26, -3.82, -3.38, -2.94, -2.5, -2.06, -1.62, -1.18],\n",
    "    grid_latitude_bounds=[[2.42, 1.98], [1.98, 1.54], [1.54, 1.1], [1.1,  0.66],\n",
    "                         [0.66, 0.22], [0.22, -0.22], [-0.22, -0.66],\n",
    "                         [-0.66, -1.1], [-1.1, -1.54], [-1.54, -1.98]],\n",
    "    grid_longitude_bounds=[[-4.92, -4.48], [-4.48, -4.04], [-4.04, -3.6],\n",
    "                          [-3.6,  -3.16], [-3.16, -2.72], [-2.72, -2.28],\n",
    "                          [-2.28, -1.84], [-1.84, -1.4], [-1.4, -0.96]],\n",
    "    altitude=1.5, altitude_bounds=[1.0, 2.0],\n",
    "    earth_radius=6371007., grid_north_pole_latitude=38.0,\n",
    "    grid_north_pole_longitude=190.0\n",
    ")\n",
    "\n",
    "print(spacedomain)"
   ]
  },
  {
   "cell_type": "code",
   "execution_count": 13,
   "metadata": {
    "pycharm": {
     "name": "#%%\n"
    }
   },
   "outputs": [
    {
     "name": "stdout",
     "output_type": "stream",
     "text": [
      "LatLonGrid(\n",
      "    shape {Y, X}: (8, 9)\n",
      "    Y, latitude (8,): [32.5, ..., 67.5] degrees_north\n",
      "    X, longitude (9,): [5.0, ..., 85.0] degrees_east\n",
      "    Y_bounds (8, 2): [[30.0, ..., 70.0]] degrees_north\n",
      "    X_bounds (9, 2): [[0.0, ..., 90.0]] degrees_east\n",
      ")\n"
     ]
    }
   ],
   "source": [
    "spacedomain2 = cm4twc.LatLonGrid.from_extent_and_resolution(\n",
    "    latitude_extent=(30, 70),\n",
    "    latitude_resolution=5,\n",
    "    longitude_extent=(0, 90),\n",
    "    longitude_resolution=10\n",
    ")\n",
    "\n",
    "print(spacedomain2)"
   ]
  },
  {
   "cell_type": "markdown",
   "metadata": {},
   "source": [
    "### `DataSet` class\n",
    "This class exists to host all of the data required to run a `Component` of `Model` . It is a dictionary-like object that stores references to `cf.Field` instances.\n"
   ]
  },
  {
   "cell_type": "code",
   "execution_count": 14,
   "metadata": {
    "pycharm": {
     "name": "#%%\n"
    }
   },
   "outputs": [
    {
     "name": "stdout",
     "output_type": "stream",
     "text": [
      "DataSet{\n",
      "    air_temperature: <CF Field: air_temperature(time(6), atmosphere_hybrid_height_coordinate(1), grid_latitude(10), grid_longitude(9)) K>\n",
      "    rainfall: <CF Field: rainfall_flux(time(6), atmosphere_hybrid_height_coordinate(1), grid_latitude(10), grid_longitude(9)) kg m-2 s-1>\n",
      "    snowfall: <CF Field: snowfall_flux(time(6), atmosphere_hybrid_height_coordinate(1), grid_latitude(10), grid_longitude(9)) kg m-2 s-1>\n",
      "    soil_temperature: <CF Field: soil_temperature(time(6), atmosphere_hybrid_height_coordinate(1), grid_latitude(10), grid_longitude(9)) K>\n",
      "    vegetation_fraction: <CF Field: vegetation_fraction(atmosphere_hybrid_height_coordinate(1), grid_latitude(10), grid_longitude(9)) 1>\n",
      "}\n"
     ]
    }
   ],
   "source": [
    "dataset = cm4twc.DataSet(\n",
    "    files=['in/dummy_driving_data_1day.nc', 'in/dummy_ancillary_data.nc'],\n",
    "    name_mapping={\n",
    "        'rainfall_flux': 'rainfall',\n",
    "        'snowfall_flux': 'snowfall',\n",
    "        'air_temperature': 'air_temperature',\n",
    "        'soil_temperature': 'soil_temperature'\n",
    "    }\n",
    ")\n",
    "\n",
    "print(dataset)"
   ]
  },
  {
   "cell_type": "markdown",
   "metadata": {},
   "source": [
    "### `Component` class\n",
    "\n",
    "This class is an umbrella class which is subclassed into three distinct classes for surface, sub-surface, and open water parts of the water cycle: `SurfaceLayerComponent`, `SubSurfaceComponent`, and `OpenWaterComponent` respectively."
   ]
  },
  {
   "cell_type": "code",
   "execution_count": 15,
   "metadata": {
    "pycharm": {
     "name": "#%%\n"
    }
   },
   "outputs": [
    {
     "name": "stdout",
     "output_type": "stream",
     "text": [
      "Dummy(\n",
      "    category: surfacelayer\n",
      "    inwards:\n",
      "        soil_water_stress [1]\n",
      "    outwards:\n",
      "        throughfall [kg m-2 s-1]\n",
      "        snowmelt [kg m-2 s-1]\n",
      "        transpiration [kg m-2 s-1]\n",
      "        evaporation_soil_surface [kg m-2 s-1]\n",
      "        evaporation_ponded_water [kg m-2 s-1]\n",
      "        evaporation_openwater [kg m-2 s-1]\n",
      "    driving data:\n",
      "        rainfall [kg m-2 s-1]\n",
      "        snowfall [kg m-2 s-1]\n",
      "        air_temperature [K]\n",
      "    ancillary data:\n",
      "        vegetation_fraction [1]\n",
      "    states:\n",
      "        canopy [kg m-2]\n",
      "        snowpack [kg m-2]\n",
      "    solver history: 1\n",
      ")\n"
     ]
    }
   ],
   "source": [
    "component = tests.dummy_components.surfacelayer.Dummy(\n",
    "    timedomain=timedomain,\n",
    "    spacedomain=spacedomain,\n",
    "    dataset=dataset,\n",
    "    parameters={}\n",
    ")\n",
    "\n",
    "print(component)"
   ]
  },
  {
   "cell_type": "markdown",
   "metadata": {},
   "source": [
    "### `Model` class\n",
    "\n",
    "This class constitutes the actual modelling framework, and it needs to be instantiated with three `Component` instances, one for each of the three `Component`s of the water cycle."
   ]
  },
  {
   "cell_type": "code",
   "execution_count": 16,
   "metadata": {
    "pycharm": {
     "name": "#%%\n"
    }
   },
   "outputs": [
    {
     "name": "stdout",
     "output_type": "stream",
     "text": [
      "Model(\n",
      "    surfacelayer: Dummy\n",
      "    subsurface: Dummy\n",
      "    openwater: Dummy\n",
      ")\n"
     ]
    }
   ],
   "source": [
    "model = cm4twc.Model(\n",
    "    surfacelayer=tests.dummy_components.surfacelayer.Dummy(\n",
    "        timedomain=timedomain,\n",
    "        spacedomain=spacedomain,\n",
    "        dataset=dataset,\n",
    "        parameters={}\n",
    "    ),\n",
    "    subsurface=tests.dummy_components.subsurface.Dummy(\n",
    "        timedomain=timedomain,\n",
    "        spacedomain=spacedomain,\n",
    "        dataset=dataset,\n",
    "        parameters={'saturated_hydraulic_conductivity': 2}\n",
    "    ),\n",
    "    openwater=tests.dummy_components.openwater.Dummy(\n",
    "        timedomain=timedomain,\n",
    "        spacedomain=spacedomain,\n",
    "        dataset=dataset,\n",
    "        parameters={'residence_time': 1}\n",
    "    )\n",
    ")\n",
    "\n",
    "print(model)"
   ]
  },
  {
   "cell_type": "code",
   "execution_count": 17,
   "metadata": {
    "pycharm": {
     "name": "#%%\n"
    }
   },
   "outputs": [
    {
     "name": "stdout",
     "output_type": "stream",
     "text": [
      "Model(\n",
      "    surfacelayer: Dummy\n",
      "    subsurface: Dummy\n",
      "    openwater: Dummy\n",
      ")\n"
     ]
    }
   ],
   "source": [
    "model2 = cm4twc.Model.from_yaml('test.yaml')\n",
    "\n",
    "print(model2)"
   ]
  },
  {
   "cell_type": "markdown",
   "metadata": {},
   "source": [
    "## Using the framework\n",
    "\n",
    "This instance of `Model` can now be used to start a spin up run and/or a simulation run."
   ]
  },
  {
   "cell_type": "code",
   "execution_count": 18,
   "metadata": {
    "pycharm": {
     "name": "#%%\n"
    }
   },
   "outputs": [],
   "source": [
    "model.spin_up(start=datetime(2019, 1, 1, 9, 0, 0),\n",
    "              end=datetime(2019, 1, 2, 9, 0, 0),\n",
    "              cycles=2)\n",
    "\n",
    "outputs = model.simulate()"
   ]
  }
 ],
 "metadata": {
  "kernelspec": {
   "display_name": "Python 3",
   "language": "python",
   "name": "python3"
  },
  "language_info": {
   "codemirror_mode": {
    "name": "ipython",
    "version": 3
   },
   "file_extension": ".py",
   "mimetype": "text/x-python",
   "name": "python",
   "nbconvert_exporter": "python",
   "pygments_lexer": "ipython3",
   "version": "3.7.7"
  }
 },
 "nbformat": 4,
 "nbformat_minor": 1
}
